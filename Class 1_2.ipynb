{
 "cells": [
  {
   "cell_type": "code",
   "execution_count": 0,
   "metadata": {
    "application/vnd.databricks.v1+cell": {
     "cellMetadata": {
      "byteLimit": 2048000,
      "implicitDf": true,
      "rowLimit": 10000
     },
     "inputWidgets": {},
     "nuid": "84ec4b18-9d34-47a3-92a8-19aa8c2adc8d",
     "showTitle": false,
     "tableResultSettingsMap": {},
     "title": ""
    }
   },
   "outputs": [],
   "source": [
    "\n",
    "%sql\n",
    "CREATE TABLE employees (\n",
    "    emp_id INT,\n",
    "    first_name VARCHAR(50),\n",
    "    last_name VARCHAR(50),\n",
    "    department VARCHAR(50),\n",
    "    job_title VARCHAR(50),\n",
    "    salary DECIMAL(10, 2),\n",
    "    hire_date DATE,\n",
    "    status VARCHAR(20),\n",
    "    city VARCHAR(50),\n",
    "    email VARCHAR(100)\n",
    ");"
   ]
  },
  {
   "cell_type": "code",
   "execution_count": 0,
   "metadata": {
    "application/vnd.databricks.v1+cell": {
     "cellMetadata": {
      "byteLimit": 2048000,
      "implicitDf": true,
      "rowLimit": 10000
     },
     "inputWidgets": {},
     "nuid": "db1762e8-d00f-4be0-baea-f54f49a8a72c",
     "showTitle": false,
     "tableResultSettingsMap": {},
     "title": ""
    }
   },
   "outputs": [],
   "source": [
    "%sql\n",
    "INSERT INTO employees VALUES\n",
    "(1, 'John', 'Doe', 'Engineering', 'Software Engineer', 75000.00, '2020-05-15', 'Active', 'Bangalore', 'john.doe@example.com'),\n",
    "(2, 'Jane', 'Smith', 'HR', 'HR Manager', 65000.00, '2019-03-10', 'Active', 'Mumbai', 'jane.smith@example.com'),\n",
    "(3, 'Raj', 'Kumar', 'Engineering', 'Data Engineer', 85000.00, '2021-07-01', 'Active', 'Hyderabad', 'raj.kumar@example.com'),\n",
    "(4, 'Priya', 'Sharma', 'Marketing', 'Marketing Analyst', 60000.00, '2018-11-22', 'Active', 'Delhi', 'priya.sharma@example.com'),\n",
    "(5, 'Tom', 'Brown', 'Sales', 'Sales Executive', 55000.00, '2022-01-05', 'Active', 'Chennai', 'tom.brown@example.com'),\n",
    "(6, 'Sara', 'Ali', 'Engineering', 'Backend Developer', 78000.00, '2020-09-17', 'Active', 'Pune', 'sara.ali@example.com'),\n",
    "(7, 'Amit', 'Verma', 'Finance', 'Accountant', 62000.00, '2017-06-30', 'Inactive', 'Bangalore', 'amit.verma@example.com'),\n",
    "(8, 'Emily', 'Clark', 'HR', 'Recruiter', 50000.00, '2021-02-14', 'Active', 'Mumbai', 'emily.clark@example.com'),\n",
    "(9, 'Vikram', 'Singh', 'Engineering', 'DevOps Engineer', 90000.00, '2019-08-19', 'Active', 'Hyderabad', 'vikram.singh@example.com'),\n",
    "(10, 'Neha', 'Patel', 'Sales', 'Regional Manager', 95000.00, '2015-04-01', 'Active', 'Delhi', 'neha.patel@example.com');\n"
   ]
  },
  {
   "cell_type": "code",
   "execution_count": 0,
   "metadata": {
    "application/vnd.databricks.v1+cell": {
     "cellMetadata": {
      "byteLimit": 2048000,
      "implicitDf": true,
      "rowLimit": 10000
     },
     "inputWidgets": {},
     "nuid": "fc598aa3-906c-4e7f-bd13-182dcce2f006",
     "showTitle": false,
     "tableResultSettingsMap": {},
     "title": ""
    }
   },
   "outputs": [],
   "source": [
    "%sql\n",
    "INSERT INTO employees VALUES\n",
    "(11, 'David', 'Lee', 'Engineering', 'Frontend Developer', 72000.00, '2020-03-11', 'Active', 'Chennai', 'david.lee@example.com'),\n",
    "(12, 'Ananya', 'Roy', 'Finance', 'Financial Analyst', 67000.00, '2019-07-25', 'Active', 'Pune', 'ananya.roy@example.com'),\n",
    "(13, 'Sam', 'Wilson', 'Marketing', 'Content Strategist', 58000.00, '2021-11-30', 'Active', 'Delhi', 'sam.wilson@example.com'),\n",
    "(14, 'Pooja', 'Das', 'Sales', 'Sales Associate', 52000.00, '2018-10-02', 'Inactive', 'Bangalore', 'pooja.das@example.com'),\n",
    "(15, 'Arjun', 'Nair', 'Engineering', 'Data Scientist', 98000.00, '2021-05-20', 'Active', 'Hyderabad', 'arjun.nair@example.com'),\n",
    "(16, 'Kavita', 'Gupta', 'HR', 'Compensation Analyst', 61000.00, '2017-01-16', 'Active', 'Mumbai', 'kavita.gupta@example.com'),\n",
    "(17, 'Robert', 'King', 'Engineering', 'Software Architect', 120000.00, '2016-09-05', 'Active', 'Delhi', 'robert.king@example.com'),\n",
    "(18, 'Meera', 'Joshi', 'Finance', 'Auditor', 69000.00, '2020-12-11', 'Active', 'Pune', 'meera.joshi@example.com'),\n",
    "(19, 'Michael', 'Scott', 'Sales', 'Regional Sales Head', 115000.00, '2015-06-20', 'Active', 'Chennai', 'michael.scott@example.com'),\n",
    "(20, 'Ravi', 'Menon', 'Engineering', 'Machine Learning Engineer', 93000.00, '2019-04-15', 'Active', 'Hyderabad', 'ravi.menon@example.com'),\n",
    "(21, 'Tina', 'Fernandez', 'Marketing', 'SEO Specialist', 57000.00, '2018-05-22', 'Active', 'Delhi', 'tina.fernandez@example.com'),\n",
    "(22, 'Arvind', 'Singh', 'Finance', 'Tax Consultant', 65000.00, '2020-01-25', 'Active', 'Mumbai', 'arvind.singh@example.com'),\n",
    "(23, 'Lucy', 'Adams', 'HR', 'HR Coordinator', 48000.00, '2021-09-10', 'Active', 'Bangalore', 'lucy.adams@example.com'),\n",
    "(24, 'Karan', 'Malhotra', 'Engineering', 'Tech Lead', 105000.00, '2017-11-18', 'Active', 'Chennai', 'karan.malhotra@example.com'),\n",
    "(25, 'Sneha', 'Reddy', 'Sales', 'Sales Manager', 88000.00, '2016-02-09', 'Active', 'Hyderabad', 'sneha.reddy@example.com'),\n",
    "(26, 'George', 'Mason', 'Finance', 'Payroll Specialist', 60000.00, '2022-04-08', 'Active', 'Pune', 'george.mason@example.com'),\n",
    "(27, 'Vishal', 'Kapoor', 'Marketing', 'Brand Manager', 75000.00, '2019-03-19', 'Active', 'Delhi', 'vishal.kapoor@example.com'),\n",
    "(28, 'Emma', 'Watson', 'Engineering', 'QA Engineer', 70000.00, '2020-07-15', 'Active', 'Bangalore', 'emma.watson@example.com'),\n",
    "(29, 'Siddharth', 'Jain', 'Engineering', 'Cloud Engineer', 89000.00, '2018-06-25', 'Active', 'Hyderabad', 'siddharth.jain@example.com'),\n",
    "(30, 'Olivia', 'Brown', 'Sales', 'Territory Manager', 81000.00, '2017-04-05', 'Active', 'Mumbai', 'olivia.brown@example.com'),\n",
    "(31, 'Nikhil', 'Arora', 'Finance', 'Business Analyst', 68000.00, '2021-03-27', 'Active', 'Chennai', 'nikhil.arora@example.com'),\n",
    "(32, 'Ayesha', 'Khan', 'HR', 'Training Specialist', 59000.00, '2019-08-02', 'Active', 'Pune', 'ayesha.khan@example.com'),\n",
    "(33, 'Chris', 'Evans', 'Engineering', 'Security Analyst', 94000.00, '2020-12-18', 'Active', 'Delhi', 'chris.evans@example.com'),\n",
    "(34, 'Ishita', 'Bhatt', 'Marketing', 'Social Media Manager', 63000.00, '2018-07-21', 'Active', 'Bangalore', 'ishita.bhatt@example.com'),\n",
    "(35, 'Shyam', 'Patil', 'Engineering', 'Data Analyst', 76000.00, '2017-02-15', 'Active', 'Hyderabad', 'shyam.patil@example.com'),\n",
    "(36, 'Sophia', 'Green', 'Sales', 'Sales Coordinator', 54000.00, '2022-05-01', 'Active', 'Mumbai', 'sophia.green@example.com'),\n",
    "(37, 'Harsh', 'Aggarwal', 'Finance', 'Investment Analyst', 88000.00, '2016-11-28', 'Active', 'Delhi', 'harsh.aggarwal@example.com'),\n",
    "(38, 'Liam', 'Martin', 'Engineering', 'AI Engineer', 115000.00, '2019-09-30', 'Active', 'Chennai', 'liam.martin@example.com'),\n",
    "(39, 'Diya', 'Saxena', 'HR', 'HRBP', 74000.00, '2020-02-07', 'Active', 'Pune', 'diya.saxena@example.com'),\n",
    "(40, 'Jason', 'Taylor', 'Marketing', 'Market Research Analyst', 58000.00, '2021-06-11', 'Active', 'Hyderabad', 'jason.taylor@example.com'),\n",
    "(41, 'Ritika', 'Mehra', 'Engineering', 'Mobile App Developer', 77000.00, '2018-01-13', 'Active', 'Delhi', 'ritika.mehra@example.com'),\n",
    "(42, 'Steve', 'Jobs', 'Engineering', 'Product Manager', 125000.00, '2015-12-20', 'Active', 'Bangalore', 'steve.jobs@example.com'),\n",
    "(43, 'Alisha', 'Paul', 'Sales', 'Inside Sales Rep', 56000.00, '2020-04-23', 'Active', 'Chennai', 'alisha.paul@example.com'),\n",
    "(44, 'Dhruv', 'Singhania', 'Finance', 'Risk Manager', 97000.00, '2017-10-14', 'Active', 'Mumbai', 'dhruv.singhania@example.com'),\n",
    "(45, 'Rebecca', 'Lewis', 'Marketing', 'PR Specialist', 64000.00, '2019-05-18', 'Active', 'Pune', 'rebecca.lewis@example.com'),\n",
    "(46, 'Naveen', 'Shetty', 'Engineering', 'Technical Support Engineer', 66000.00, '2021-01-12', 'Active', 'Hyderabad', 'naveen.shetty@example.com'),\n",
    "(47, 'Julia', 'Roberts', 'HR', 'HR Generalist', 61000.00, '2018-09-03', 'Active', 'Delhi', 'julia.roberts@example.com'),\n",
    "(48, 'Parth', 'Desai', 'Finance', 'Treasury Analyst', 70000.00, '2019-12-29', 'Active', 'Chennai', 'parth.desai@example.com'),\n",
    "(49, 'Nina', 'Shah', 'Engineering', 'Systems Engineer', 73000.00, '2020-06-17', 'Active', 'Bangalore', 'nina.shah@example.com'),\n",
    "(50, 'Aria', 'Gill', 'Marketing', 'Advertising Manager', 82000.00, '2017-08-09', 'Active', 'Mumbai', 'aria.gill@example.com');\n"
   ]
  },
  {
   "cell_type": "code",
   "execution_count": 0,
   "metadata": {
    "application/vnd.databricks.v1+cell": {
     "cellMetadata": {
      "byteLimit": 2048000,
      "implicitDf": true,
      "rowLimit": 10000
     },
     "inputWidgets": {},
     "nuid": "9857acaa-d195-426e-a0c2-ba7420b8259b",
     "showTitle": false,
     "tableResultSettingsMap": {},
     "title": ""
    }
   },
   "outputs": [],
   "source": [
    "\n",
    "%sql\n",
    "SELECT COUNT(1) AS total_employees FROM employees;\n"
   ]
  },
  {
   "cell_type": "code",
   "execution_count": 0,
   "metadata": {
    "application/vnd.databricks.v1+cell": {
     "cellMetadata": {
      "byteLimit": 2048000,
      "implicitDf": true,
      "rowLimit": 10000
     },
     "inputWidgets": {},
     "nuid": "9ddbf6bd-0c27-4117-a711-b02acd063eb3",
     "showTitle": false,
     "tableResultSettingsMap": {},
     "title": ""
    }
   },
   "outputs": [],
   "source": [
    "\n",
    "%sql\n",
    "select 1 \n",
    "     "
   ]
  },
  {
   "cell_type": "code",
   "execution_count": 0,
   "metadata": {
    "application/vnd.databricks.v1+cell": {
     "cellMetadata": {
      "byteLimit": 2048000,
      "implicitDf": true,
      "rowLimit": 10000
     },
     "inputWidgets": {},
     "nuid": "7174e31a-92ca-49fc-970b-390706f3fead",
     "showTitle": false,
     "tableResultSettingsMap": {},
     "title": ""
    }
   },
   "outputs": [],
   "source": [
    "\n",
    "%sql \n",
    "\n",
    "select 1 from employees\n",
    "     "
   ]
  },
  {
   "cell_type": "markdown",
   "metadata": {
    "application/vnd.databricks.v1+cell": {
     "cellMetadata": {},
     "inputWidgets": {},
     "nuid": "570f9037-82a0-4b05-8351-1cea6e962290",
     "showTitle": false,
     "tableResultSettingsMap": {},
     "title": ""
    }
   },
   "source": [
    "count(1) and count(*) gives same result =50\n",
    "while select 1 from gives 50 times 1"
   ]
  },
  {
   "cell_type": "code",
   "execution_count": 0,
   "metadata": {
    "application/vnd.databricks.v1+cell": {
     "cellMetadata": {},
     "inputWidgets": {},
     "nuid": "ed64406c-e4ac-4a06-aaad-aabee8a6261f",
     "showTitle": false,
     "tableResultSettingsMap": {},
     "title": ""
    }
   },
   "outputs": [],
   "source": []
  }
 ],
 "metadata": {
  "application/vnd.databricks.v1+notebook": {
   "computePreferences": null,
   "dashboards": [],
   "environmentMetadata": {
    "base_environment": "",
    "environment_version": "2"
   },
   "inputWidgetPreferences": null,
   "language": "python",
   "notebookMetadata": {
    "mostRecentlyExecutedCommandWithImplicitDF": {
     "commandId": 7250956739217335,
     "dataframes": [
      "_sqldf"
     ]
    },
    "pythonIndentUnit": 4
   },
   "notebookName": "Class 1_2",
   "widgets": {}
  },
  "language_info": {
   "name": "python"
  }
 },
 "nbformat": 4,
 "nbformat_minor": 0
}
